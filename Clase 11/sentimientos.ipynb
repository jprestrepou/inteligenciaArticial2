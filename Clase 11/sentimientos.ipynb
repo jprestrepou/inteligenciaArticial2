{
  "nbformat": 4,
  "nbformat_minor": 0,
  "metadata": {
    "colab": {
      "provenance": []
    },
    "kernelspec": {
      "name": "python3",
      "display_name": "Python 3"
    },
    "language_info": {
      "name": "python"
    }
  },
  "cells": [
    {
      "cell_type": "code",
      "execution_count": 23,
      "metadata": {
        "id": "ITpkEjjTt4lr"
      },
      "outputs": [],
      "source": [
        "import pandas as pd\n",
        "from sklearn.model_selection import train_test_split\n",
        "from keras.models import Sequential\n",
        "from keras.layers import Dense, Embedding, LSTM, Dropout\n",
        "from keras.preprocessing.text import Tokenizer\n",
        "from tensorflow.keras.preprocessing.sequence import pad_sequences\n",
        "from sklearn.preprocessing import LabelEncoder\n",
        "from keras.utils import to_categorical"
      ]
    },
    {
      "cell_type": "code",
      "source": [
        "data = pd.read_csv(\"testdata.manual.2009.06.14.csv\", header=None, encoding='latin-1', engine='python', error_bad_lines=False)\n",
        "data.columns = ['sentimiento', 'id', 'fecha', 'query', 'usuario', 'texto']  # Asignar nombres a las columnas\n",
        "data = data[['sentimiento', 'texto']]"
      ],
      "metadata": {
        "colab": {
          "base_uri": "https://localhost:8080/"
        },
        "id": "fAG_1GAluOO6",
        "outputId": "f53d462e-5934-41fd-f96d-f6a197b0c688"
      },
      "execution_count": 3,
      "outputs": [
        {
          "output_type": "stream",
          "name": "stderr",
          "text": [
            "<ipython-input-3-180ef250418c>:1: FutureWarning: The error_bad_lines argument has been deprecated and will be removed in a future version. Use on_bad_lines in the future.\n",
            "\n",
            "\n",
            "  data = pd.read_csv(\"testdata.manual.2009.06.14.csv\", header=None, encoding='latin-1', engine='python', error_bad_lines=False)\n"
          ]
        }
      ]
    },
    {
      "cell_type": "code",
      "source": [
        "data['sentimiento'] = data['sentimiento'].replace({0: 'negativo', 2: 'neutral', 4: 'positivo'})\n",
        "\n",
        "X = data['texto'].values\n",
        "y = data['sentimiento'].values"
      ],
      "metadata": {
        "id": "nUfbGnBluQwS"
      },
      "execution_count": 28,
      "outputs": []
    },
    {
      "cell_type": "code",
      "source": [
        "tokenizer = Tokenizer(num_words=5000)\n",
        "tokenizer.fit_on_texts(X)\n",
        "X = tokenizer.texts_to_sequences(X)\n",
        "\"\"\"\n",
        "tokenizer = Tokenizer()\n",
        "tokenizer.fit_on_texts(X)\n",
        "X = tokenizer.texts_to_sequences(X)\n",
        "\"\"\"\n",
        "label_encoder = LabelEncoder()\n",
        "y = label_encoder.fit_transform(y)\n",
        "y = to_categorical(y, num_classes=3)"
      ],
      "metadata": {
        "id": "frAI3KL7uUCd"
      },
      "execution_count": 29,
      "outputs": []
    },
    {
      "cell_type": "code",
      "source": [
        "# Pad secuencias para que todas tengan la misma longitud\n",
        "X = pad_sequences(X)\n",
        "\n",
        "# Dividir los datos en conjuntos de entrenamiento y prueba\n",
        "X_train, X_test, y_train, y_test = train_test_split(X, y, test_size=0.2, random_state=42)\n"
      ],
      "metadata": {
        "id": "SrkCnRK5uW1j"
      },
      "execution_count": 31,
      "outputs": []
    },
    {
      "cell_type": "code",
      "source": [
        "# Construir el modelo\n",
        "model = Sequential()\n",
        "model.add(Embedding(5000, 32, input_length=X.shape[1]))\n",
        "model.add(LSTM(100, return_sequences=True))  # Capa LSTM adicional\n",
        "model.add(Dropout(0.2))  # Capa de dropout para regularización\n",
        "model.add(LSTM(50, return_sequences=True))  # Otra capa LSTM\n",
        "model.add(Dropout(0.2))  # Capa de dropout adicional\n",
        "model.add(LSTM(25))  # Otra capa LSTM\n",
        "model.add(Dropout(0.2))  # Capa de dropout adicional\n",
        "model.add(Dense(3, activation='softmax'))\n",
        "model.compile(loss='categorical_crossentropy', optimizer='adam', metrics=['accuracy'])\n",
        "\n",
        "# Entrenar el modelo\n",
        "model.fit(X_train, y_train, validation_data=(X_test, y_test), epochs=50, batch_size=16)\n",
        "\n",
        "# Evaluar el modelo en el conjunto de prueba\n",
        "loss, accuracy = model.evaluate(X_test, y_test, verbose=0)\n",
        "print(f\"Pérdida: {loss:.2f}\")\n",
        "print(f\"Precisión: {accuracy*100:.2f}%\")"
      ],
      "metadata": {
        "colab": {
          "base_uri": "https://localhost:8080/"
        },
        "id": "Oy4vj61iuZG3",
        "outputId": "8300cd53-a3e0-47b3-8ddf-e957a4ef6549"
      },
      "execution_count": 35,
      "outputs": [
        {
          "output_type": "stream",
          "name": "stdout",
          "text": [
            "Epoch 1/50\n",
            "25/25 [==============================] - 9s 110ms/step - loss: 1.0958 - accuracy: 0.3266 - val_loss: 1.1061 - val_accuracy: 0.4000\n",
            "Epoch 2/50\n",
            "25/25 [==============================] - 1s 58ms/step - loss: 1.0926 - accuracy: 0.3744 - val_loss: 1.1035 - val_accuracy: 0.2600\n",
            "Epoch 3/50\n",
            "25/25 [==============================] - 1s 58ms/step - loss: 1.0407 - accuracy: 0.4347 - val_loss: 1.0843 - val_accuracy: 0.3900\n",
            "Epoch 4/50\n",
            "25/25 [==============================] - 1s 59ms/step - loss: 0.8072 - accuracy: 0.6583 - val_loss: 1.0210 - val_accuracy: 0.5800\n",
            "Epoch 5/50\n",
            "25/25 [==============================] - 2s 91ms/step - loss: 0.4804 - accuracy: 0.8442 - val_loss: 1.2359 - val_accuracy: 0.5000\n",
            "Epoch 6/50\n",
            "25/25 [==============================] - 2s 68ms/step - loss: 0.2330 - accuracy: 0.9246 - val_loss: 1.3359 - val_accuracy: 0.5600\n",
            "Epoch 7/50\n",
            "25/25 [==============================] - 1s 58ms/step - loss: 0.1217 - accuracy: 0.9698 - val_loss: 1.6378 - val_accuracy: 0.5200\n",
            "Epoch 8/50\n",
            "25/25 [==============================] - 1s 59ms/step - loss: 0.0815 - accuracy: 0.9824 - val_loss: 1.5772 - val_accuracy: 0.5400\n",
            "Epoch 9/50\n",
            "25/25 [==============================] - 1s 58ms/step - loss: 0.0782 - accuracy: 0.9824 - val_loss: 1.6103 - val_accuracy: 0.5300\n",
            "Epoch 10/50\n",
            "25/25 [==============================] - 1s 58ms/step - loss: 0.0587 - accuracy: 0.9849 - val_loss: 1.3036 - val_accuracy: 0.5800\n",
            "Epoch 11/50\n",
            "25/25 [==============================] - 1s 60ms/step - loss: 0.0335 - accuracy: 0.9950 - val_loss: 1.4527 - val_accuracy: 0.5400\n",
            "Epoch 12/50\n",
            "25/25 [==============================] - 1s 59ms/step - loss: 0.0203 - accuracy: 0.9975 - val_loss: 1.8062 - val_accuracy: 0.5300\n",
            "Epoch 13/50\n",
            "25/25 [==============================] - 2s 88ms/step - loss: 0.0145 - accuracy: 0.9975 - val_loss: 1.9857 - val_accuracy: 0.5600\n",
            "Epoch 14/50\n",
            "25/25 [==============================] - 2s 69ms/step - loss: 0.0235 - accuracy: 0.9950 - val_loss: 1.5852 - val_accuracy: 0.5700\n",
            "Epoch 15/50\n",
            "25/25 [==============================] - 1s 59ms/step - loss: 0.0122 - accuracy: 1.0000 - val_loss: 1.6885 - val_accuracy: 0.5600\n",
            "Epoch 16/50\n",
            "25/25 [==============================] - 1s 59ms/step - loss: 0.0079 - accuracy: 1.0000 - val_loss: 1.8555 - val_accuracy: 0.5700\n",
            "Epoch 17/50\n",
            "25/25 [==============================] - 1s 58ms/step - loss: 0.0057 - accuracy: 1.0000 - val_loss: 2.0086 - val_accuracy: 0.5600\n",
            "Epoch 18/50\n",
            "25/25 [==============================] - 1s 59ms/step - loss: 0.0053 - accuracy: 1.0000 - val_loss: 2.0950 - val_accuracy: 0.5700\n",
            "Epoch 19/50\n",
            "25/25 [==============================] - 2s 61ms/step - loss: 0.0035 - accuracy: 1.0000 - val_loss: 2.1479 - val_accuracy: 0.5800\n",
            "Epoch 20/50\n",
            "25/25 [==============================] - 1s 59ms/step - loss: 0.0032 - accuracy: 1.0000 - val_loss: 2.2300 - val_accuracy: 0.5700\n",
            "Epoch 21/50\n",
            "25/25 [==============================] - 2s 88ms/step - loss: 0.0031 - accuracy: 1.0000 - val_loss: 2.2755 - val_accuracy: 0.5700\n",
            "Epoch 22/50\n",
            "25/25 [==============================] - 2s 69ms/step - loss: 0.0023 - accuracy: 1.0000 - val_loss: 2.3239 - val_accuracy: 0.5700\n",
            "Epoch 23/50\n",
            "25/25 [==============================] - 1s 60ms/step - loss: 0.0023 - accuracy: 1.0000 - val_loss: 2.3701 - val_accuracy: 0.5600\n",
            "Epoch 24/50\n",
            "25/25 [==============================] - 1s 60ms/step - loss: 0.0029 - accuracy: 1.0000 - val_loss: 2.3998 - val_accuracy: 0.5600\n",
            "Epoch 25/50\n",
            "25/25 [==============================] - 1s 59ms/step - loss: 0.0022 - accuracy: 1.0000 - val_loss: 2.4230 - val_accuracy: 0.5700\n",
            "Epoch 26/50\n",
            "25/25 [==============================] - 1s 58ms/step - loss: 0.0019 - accuracy: 1.0000 - val_loss: 2.4637 - val_accuracy: 0.5700\n",
            "Epoch 27/50\n",
            "25/25 [==============================] - 1s 59ms/step - loss: 0.0016 - accuracy: 1.0000 - val_loss: 2.5035 - val_accuracy: 0.5700\n",
            "Epoch 28/50\n",
            "25/25 [==============================] - 1s 59ms/step - loss: 0.0016 - accuracy: 1.0000 - val_loss: 2.5293 - val_accuracy: 0.5500\n",
            "Epoch 29/50\n",
            "25/25 [==============================] - 2s 86ms/step - loss: 0.0012 - accuracy: 1.0000 - val_loss: 2.5647 - val_accuracy: 0.5500\n",
            "Epoch 30/50\n",
            "25/25 [==============================] - 2s 71ms/step - loss: 0.0018 - accuracy: 1.0000 - val_loss: 2.5963 - val_accuracy: 0.5600\n",
            "Epoch 31/50\n",
            "25/25 [==============================] - 1s 59ms/step - loss: 0.0013 - accuracy: 1.0000 - val_loss: 2.6201 - val_accuracy: 0.5500\n",
            "Epoch 32/50\n",
            "25/25 [==============================] - 1s 60ms/step - loss: 0.0014 - accuracy: 1.0000 - val_loss: 2.6373 - val_accuracy: 0.5600\n",
            "Epoch 33/50\n",
            "25/25 [==============================] - 1s 60ms/step - loss: 0.0013 - accuracy: 1.0000 - val_loss: 2.6692 - val_accuracy: 0.5500\n",
            "Epoch 34/50\n",
            "25/25 [==============================] - 1s 58ms/step - loss: 0.0013 - accuracy: 1.0000 - val_loss: 2.6988 - val_accuracy: 0.5500\n",
            "Epoch 35/50\n",
            "25/25 [==============================] - 1s 58ms/step - loss: 0.0010 - accuracy: 1.0000 - val_loss: 2.7277 - val_accuracy: 0.5400\n",
            "Epoch 36/50\n",
            "25/25 [==============================] - 1s 60ms/step - loss: 9.3492e-04 - accuracy: 1.0000 - val_loss: 2.7553 - val_accuracy: 0.5400\n",
            "Epoch 37/50\n",
            "25/25 [==============================] - 2s 82ms/step - loss: 0.0011 - accuracy: 1.0000 - val_loss: 2.7836 - val_accuracy: 0.5400\n",
            "Epoch 38/50\n",
            "25/25 [==============================] - 2s 74ms/step - loss: 0.0011 - accuracy: 1.0000 - val_loss: 2.8050 - val_accuracy: 0.5400\n",
            "Epoch 39/50\n",
            "25/25 [==============================] - 1s 60ms/step - loss: 9.1274e-04 - accuracy: 1.0000 - val_loss: 2.8171 - val_accuracy: 0.5400\n",
            "Epoch 40/50\n",
            "25/25 [==============================] - 1s 60ms/step - loss: 9.6375e-04 - accuracy: 1.0000 - val_loss: 2.8459 - val_accuracy: 0.5500\n",
            "Epoch 41/50\n",
            "25/25 [==============================] - 1s 58ms/step - loss: 7.6554e-04 - accuracy: 1.0000 - val_loss: 2.8683 - val_accuracy: 0.5400\n",
            "Epoch 42/50\n",
            "25/25 [==============================] - 1s 59ms/step - loss: 7.5332e-04 - accuracy: 1.0000 - val_loss: 2.8914 - val_accuracy: 0.5400\n",
            "Epoch 43/50\n",
            "25/25 [==============================] - 1s 60ms/step - loss: 8.8035e-04 - accuracy: 1.0000 - val_loss: 2.9144 - val_accuracy: 0.5400\n",
            "Epoch 44/50\n",
            "25/25 [==============================] - 1s 58ms/step - loss: 7.9969e-04 - accuracy: 1.0000 - val_loss: 2.9292 - val_accuracy: 0.5500\n",
            "Epoch 45/50\n",
            "25/25 [==============================] - 2s 80ms/step - loss: 9.3447e-04 - accuracy: 1.0000 - val_loss: 2.9232 - val_accuracy: 0.5300\n",
            "Epoch 46/50\n",
            "25/25 [==============================] - 2s 76ms/step - loss: 8.0155e-04 - accuracy: 1.0000 - val_loss: 2.9434 - val_accuracy: 0.5400\n",
            "Epoch 47/50\n",
            "25/25 [==============================] - 1s 60ms/step - loss: 7.0744e-04 - accuracy: 1.0000 - val_loss: 2.9716 - val_accuracy: 0.5400\n",
            "Epoch 48/50\n",
            "25/25 [==============================] - 1s 59ms/step - loss: 9.3466e-04 - accuracy: 1.0000 - val_loss: 2.9919 - val_accuracy: 0.5400\n",
            "Epoch 49/50\n",
            "25/25 [==============================] - 1s 59ms/step - loss: 6.5982e-04 - accuracy: 1.0000 - val_loss: 3.0185 - val_accuracy: 0.5400\n",
            "Epoch 50/50\n",
            "25/25 [==============================] - 1s 60ms/step - loss: 6.3385e-04 - accuracy: 1.0000 - val_loss: 3.0146 - val_accuracy: 0.5400\n",
            "Pérdida: 3.01\n",
            "Precisión: 54.00%\n"
          ]
        }
      ]
    }
  ]
}
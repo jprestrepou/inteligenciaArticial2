{
  "cells": [
    {
      "cell_type": "code",
      "execution_count": null,
      "metadata": {
        "colab": {
          "base_uri": "https://localhost:8080/"
        },
        "id": "PEBlPuPnjyWE",
        "outputId": "1d2e090b-7705-4b40-9b70-81db121d2ed6"
      },
      "outputs": [
        {
          "output_type": "stream",
          "name": "stdout",
          "text": [
            "Model: \"sequential_1\"\n",
            "_________________________________________________________________\n",
            " Layer (type)                Output Shape              Param #   \n",
            "=================================================================\n",
            " conv2d_2 (Conv2D)           (None, 26, 26, 32)        320       \n",
            "                                                                 \n",
            " activation_4 (Activation)   (None, 26, 26, 32)        0         \n",
            "                                                                 \n",
            " conv2d_3 (Conv2D)           (None, 24, 24, 32)        9248      \n",
            "                                                                 \n",
            " activation_5 (Activation)   (None, 24, 24, 32)        0         \n",
            "                                                                 \n",
            " max_pooling2d_1 (MaxPooling  (None, 12, 12, 32)       0         \n",
            " 2D)                                                             \n",
            "                                                                 \n",
            " flatten_1 (Flatten)         (None, 4608)              0         \n",
            "                                                                 \n",
            " dense_2 (Dense)             (None, 64)                294976    \n",
            "                                                                 \n",
            " activation_6 (Activation)   (None, 64)                0         \n",
            "                                                                 \n",
            " dense_3 (Dense)             (None, 10)                650       \n",
            "                                                                 \n",
            " activation_7 (Activation)   (None, 10)                0         \n",
            "                                                                 \n",
            "=================================================================\n",
            "Total params: 305,194\n",
            "Trainable params: 305,194\n",
            "Non-trainable params: 0\n",
            "_________________________________________________________________\n",
            "None\n",
            "5400/5400 [==============================] - 22s 4ms/step - loss: 5.1957 - accuracy: 0.4129 - val_loss: 1.8002 - val_accuracy: 0.6442\n",
            "313/313 [==============================] - 1s 3ms/step - loss: 1.9767 - accuracy: 0.6286\n",
            "Test accuracy: 0.628600001335144\n",
            "El tiempo de ejecucion fue: 23.817424297332764\n"
          ]
        }
      ],
      "source": [
        "from time import time\n",
        "from keras.datasets import mnist\n",
        "from keras.models import Sequential\n",
        "from keras.layers import Dense, Activation\n",
        "from keras.layers import Convolution2D, MaxPooling2D\n",
        "from keras.layers import Flatten\n",
        "from keras.utils import np_utils\n",
        "\n",
        "tiempo_inicial = time() \n",
        "(X_train, Y_train), (X_test, Y_test) = mnist.load_data()\n",
        "X_train = X_train.reshape(60000, 28, 28, 1)\n",
        "X_test = X_test.reshape(10000, 28, 28, 1)\n",
        "Y_train = np_utils.to_categorical(Y_train, 10)\n",
        "Y_test = np_utils.to_categorical(Y_test, 10)\n",
        "\n",
        "model = Sequential([Convolution2D(filters=32,\n",
        "                                  kernel_size=(3, 3),\n",
        "                                  input_shape=(28, 28, 1)), # first conv layer\n",
        "                    Activation('relu'),\n",
        "                    Convolution2D(filters=32,\n",
        "                                  kernel_size=(3, 3)), # second conv layer\n",
        "                    Activation('relu'),\n",
        "                    MaxPooling2D(pool_size=(2, 2)), # max pooling layer\n",
        "                    Flatten(), # flatten the output tensor\n",
        "                    Dense(64), # fully-connected hidden layer\n",
        "                    Activation('relu'),\n",
        "                    Dense(10), # output layer\n",
        "                    Activation('softmax')])\n",
        "print(model.summary())\n",
        "model.compile(loss='categorical_crossentropy', metrics=['accuracy'], optimizer='adadelta')\n",
        "model.fit(X_train, Y_train, batch_size=10, epochs=1, validation_split=0.1, verbose=1)\n",
        "score = model.evaluate(X_test, Y_test, verbose=1)\n",
        "print('Test accuracy:', score[1])\n",
        "\n",
        "tiempo_final = time() \n",
        "tiempo_ejecucion = tiempo_final - tiempo_inicial\n",
        "print ('El tiempo de ejecucion fue:',tiempo_ejecucion)"
      ]
    },
    {
      "cell_type": "markdown",
      "metadata": {
        "id": "0gYAD3HJ0g61"
      },
      "source": [
        "Tiempo de ejecucion con CPU: 844.8924615383148\n",
        "\n",
        "Tiempo de ejecucion con GPU: 47.8739800453186\n",
        "\n",
        "Comparacion de resultados:\n",
        "Secuencial:\n",
        "\n",
        "loss: 0.2417 - acc: 0.9336\n",
        "\n",
        "Convolucional:\n",
        "\n",
        "loss: 8.0932e-04 - acc: 0.9997 - val_loss: 0.0758 - val_acc: 0.9897\n",
        "\n"
      ]
    },
    {
      "cell_type": "code",
      "execution_count": null,
      "metadata": {
        "colab": {
          "base_uri": "https://localhost:8080/"
        },
        "id": "6VYr9D2FNQIU",
        "outputId": "c76b51c1-c4e8-4743-d40b-bd1b2faf89de"
      },
      "outputs": [
        {
          "output_type": "stream",
          "name": "stdout",
          "text": [
            "Looking in indexes: https://pypi.org/simple, https://us-python.pkg.dev/colab-wheels/public/simple/\n",
            "Requirement already satisfied: optuna in /usr/local/lib/python3.9/dist-packages (3.1.1)\n",
            "Requirement already satisfied: tqdm in /usr/local/lib/python3.9/dist-packages (from optuna) (4.65.0)\n",
            "Requirement already satisfied: sqlalchemy>=1.3.0 in /usr/local/lib/python3.9/dist-packages (from optuna) (2.0.9)\n",
            "Requirement already satisfied: numpy in /usr/local/lib/python3.9/dist-packages (from optuna) (1.22.4)\n",
            "Requirement already satisfied: alembic>=1.5.0 in /usr/local/lib/python3.9/dist-packages (from optuna) (1.10.3)\n",
            "Requirement already satisfied: colorlog in /usr/local/lib/python3.9/dist-packages (from optuna) (6.7.0)\n",
            "Requirement already satisfied: PyYAML in /usr/local/lib/python3.9/dist-packages (from optuna) (6.0)\n",
            "Requirement already satisfied: cmaes>=0.9.1 in /usr/local/lib/python3.9/dist-packages (from optuna) (0.9.1)\n",
            "Requirement already satisfied: packaging>=20.0 in /usr/local/lib/python3.9/dist-packages (from optuna) (23.0)\n",
            "Requirement already satisfied: typing-extensions>=4 in /usr/local/lib/python3.9/dist-packages (from alembic>=1.5.0->optuna) (4.5.0)\n",
            "Requirement already satisfied: Mako in /usr/local/lib/python3.9/dist-packages (from alembic>=1.5.0->optuna) (1.2.4)\n",
            "Requirement already satisfied: greenlet!=0.4.17 in /usr/local/lib/python3.9/dist-packages (from sqlalchemy>=1.3.0->optuna) (2.0.2)\n",
            "Requirement already satisfied: MarkupSafe>=0.9.2 in /usr/local/lib/python3.9/dist-packages (from Mako->alembic>=1.5.0->optuna) (2.1.2)\n"
          ]
        },
        {
          "output_type": "stream",
          "name": "stderr",
          "text": [
            "\u001b[32m[I 2023-04-12 20:54:54,449]\u001b[0m A new study created in memory with name: no-name-dd8034ac-35eb-4c4c-b73d-f72a957327a0\u001b[0m\n"
          ]
        },
        {
          "output_type": "stream",
          "name": "stdout",
          "text": [
            "Epoch 1/2\n",
            "1875/1875 [==============================] - 13s 5ms/step - loss: 11.6885 - accuracy: 0.2655 - val_loss: 4.0615 - val_accuracy: 0.4590\n",
            "Epoch 2/2\n",
            "1875/1875 [==============================] - 8s 4ms/step - loss: 2.6809 - accuracy: 0.5750 - val_loss: 1.7837 - val_accuracy: 0.6736\n"
          ]
        },
        {
          "output_type": "stream",
          "name": "stderr",
          "text": [
            "\u001b[32m[I 2023-04-12 20:55:36,720]\u001b[0m Trial 0 finished with value: 1.7836552858352661 and parameters: {'lr': 6.304951547212558e-05, 'momentum': 0.48457032912923004, 'batch_size': 32}. Best is trial 0 with value: 1.7836552858352661.\u001b[0m\n"
          ]
        },
        {
          "output_type": "stream",
          "name": "stdout",
          "text": [
            "Epoch 1/2\n",
            "1875/1875 [==============================] - 9s 4ms/step - loss: 8.7473 - accuracy: 0.2852 - val_loss: 3.3109 - val_accuracy: 0.4924\n",
            "Epoch 2/2\n",
            "1875/1875 [==============================] - 9s 5ms/step - loss: 2.4258 - accuracy: 0.5724 - val_loss: 1.8217 - val_accuracy: 0.6459\n"
          ]
        },
        {
          "output_type": "stream",
          "name": "stderr",
          "text": [
            "\u001b[32m[I 2023-04-12 20:55:54,881]\u001b[0m Trial 1 finished with value: 1.8217082023620605 and parameters: {'lr': 0.07021013949887808, 'momentum': 0.5099081778916084, 'batch_size': 32}. Best is trial 0 with value: 1.7836552858352661.\u001b[0m\n"
          ]
        },
        {
          "output_type": "stream",
          "name": "stdout",
          "text": [
            "Mejores hiperparámetros: {'lr': 6.304951547212558e-05, 'momentum': 0.48457032912923004, 'batch_size': 32}\n"
          ]
        }
      ],
      "source": [
        "!pip install optuna\n",
        "import optuna\n",
        "import tensorflow as tf\n",
        "from tensorflow import keras\n",
        "from tensorflow.keras import layers\n",
        "\n",
        "def objective(trial):\n",
        "    model = Sequential([Convolution2D(filters=32,\n",
        "                                  kernel_size=(3, 3),\n",
        "                                  input_shape=(28, 28, 1)), # first conv layer\n",
        "                    Activation('relu'),\n",
        "                    Convolution2D(filters=32,\n",
        "                                  kernel_size=(3, 3)), # second conv layer\n",
        "                    Activation('relu'),\n",
        "                    MaxPooling2D(pool_size=(2, 2)), # max pooling layer\n",
        "                    Flatten(), # flatten the output tensor\n",
        "                    Dense(64), # fully-connected hidden layer\n",
        "                    Activation('relu'),\n",
        "                    Dense(10), # output layer\n",
        "                    Activation('softmax')])\n",
        "    # Definir los hiperparámetros para optimizar con Optuna\n",
        "    lr = trial.suggest_float(\"lr\", 1e-5, 1e-1, log=True)\n",
        "    momentum = trial.suggest_float(\"momentum\", 0.0, 1.0)\n",
        "    batch_size = trial.suggest_categorical(\"batch_size\", [32, 64, 128])\n",
        "\n",
        "    # Compilar el modelo con los hiperparámetros elegidos\n",
        "    #optimizer = tf.keras.optimizers.SGD(learning_rate=lr, momentum=momentum)\n",
        "    #model.compile(optimizer=optimizer, loss='categorical_crossentropy', metrics=['accuracy'])\n",
        "    model.compile(loss='categorical_crossentropy', metrics=['accuracy'], optimizer='adadelta')\n",
        "    # Entrenar el modelo con los hiperparámetros elegidos\n",
        "    history = model.fit(X_train, Y_train, validation_data=(X_test, Y_test), epochs=2, batch_size=batch_size)\n",
        "\n",
        "    # Devolver el valor de pérdida en la última época como objetivo a minimizar por Optuna\n",
        "    return history.history['val_loss'][-1]\n",
        "\n",
        "study = optuna.create_study(direction='minimize')\n",
        "study.optimize(objective, n_trials=2)\n",
        "\n",
        "# Obtener los mejores hiperparámetros encontrados\n",
        "best_params = study.best_params\n",
        "print(\"Mejores hiperparámetros:\", best_params)"
      ]
    }
  ],
  "metadata": {
    "accelerator": "GPU",
    "colab": {
      "provenance": []
    },
    "kernelspec": {
      "display_name": "Python 3",
      "name": "python3"
    },
    "language_info": {
      "codemirror_mode": {
        "name": "ipython",
        "version": 3
      },
      "file_extension": ".py",
      "mimetype": "text/x-python",
      "name": "python",
      "nbconvert_exporter": "python",
      "pygments_lexer": "ipython3",
      "version": "3.9.13"
    },
    "gpuClass": "standard"
  },
  "nbformat": 4,
  "nbformat_minor": 0
}
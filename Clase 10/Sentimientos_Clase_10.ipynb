{
  "nbformat": 4,
  "nbformat_minor": 0,
  "metadata": {
    "colab": {
      "provenance": []
    },
    "kernelspec": {
      "name": "python3",
      "display_name": "Python 3"
    },
    "language_info": {
      "name": "python"
    }
  },
  "cells": [
    {
      "cell_type": "code",
      "execution_count": null,
      "metadata": {
        "colab": {
          "base_uri": "https://localhost:8080/"
        },
        "id": "F-OQLw6ZqugP",
        "outputId": "a46da34c-c5d0-4e60-d2a4-4839602baef9"
      },
      "outputs": [
        {
          "output_type": "stream",
          "name": "stdout",
          "text": [
            "[nltk_data] Downloading package brown to /root/nltk_data...\n",
            "[nltk_data]   Unzipping corpora/brown.zip.\n",
            "[nltk_data] Downloading package punkt to /root/nltk_data...\n",
            "[nltk_data]   Unzipping tokenizers/punkt.zip.\n",
            "[nltk_data] Downloading package wordnet to /root/nltk_data...\n",
            "[nltk_data] Downloading package averaged_perceptron_tagger to\n",
            "[nltk_data]     /root/nltk_data...\n",
            "[nltk_data]   Unzipping taggers/averaged_perceptron_tagger.zip.\n",
            "[nltk_data] Downloading package conll2000 to /root/nltk_data...\n",
            "[nltk_data]   Unzipping corpora/conll2000.zip.\n",
            "[nltk_data] Downloading package movie_reviews to /root/nltk_data...\n",
            "[nltk_data]   Unzipping corpora/movie_reviews.zip.\n",
            "Finished.\n",
            "Sentiment(polarity=-0.16666666666666666, subjectivity=0.43333333333333335)\n",
            "[('This', 'DT'), ('table', 'NN'), ('is', 'VBZ'), ('black', 'JJ')]\n",
            "['__add__', '__class__', '__contains__', '__delattr__', '__dict__', '__dir__', '__doc__', '__eq__', '__format__', '__ge__', '__getattribute__', '__getitem__', '__gt__', '__hash__', '__init__', '__init_subclass__', '__iter__', '__le__', '__len__', '__lt__', '__module__', '__ne__', '__new__', '__reduce__', '__reduce_ex__', '__repr__', '__setattr__', '__sizeof__', '__str__', '__subclasshook__', '__weakref__', '_cmpkey', '_compare', '_create_sentence_objects', '_strkey', 'analyzer', 'classifier', 'classify', 'correct', 'detect_language', 'ends_with', 'endswith', 'find', 'format', 'index', 'join', 'json', 'lower', 'ngrams', 'noun_phrases', 'np_counts', 'np_extractor', 'parse', 'parser', 'polarity', 'pos_tagger', 'pos_tags', 'raw', 'raw_sentences', 'replace', 'rfind', 'rindex', 'sentences', 'sentiment', 'sentiment_assessments', 'serialized', 'split', 'starts_with', 'startswith', 'string', 'strip', 'stripped', 'subjectivity', 'tags', 'title', 'to_json', 'tokenize', 'tokenizer', 'tokens', 'translate', 'translator', 'upper', 'word_counts', 'words']\n"
          ]
        }
      ],
      "source": [
        "from textblob import TextBlob\n",
        "!python -m textblob.download_corpora\n",
        "\n",
        "analysis = TextBlob(\"This table is black\")\n",
        "print(analysis.sentiment)\n",
        " \n",
        "print(analysis.tags)\n",
        " \n",
        "print(dir(analysis))"
      ]
    },
    {
      "cell_type": "markdown",
      "source": [
        "\n",
        "\n",
        "*   CC Conjunción de coordinación\n",
        "*   CD dígito cardinal\n",
        "*   DT Determinador\n",
        "*   EX existencial allí (como: “hay”… piensa en ello como “existe”)\n",
        "*   FW palabra extranjera\n",
        "*   IN preposición/junta subordinación\n",
        "*   JJ  Adjetivo ‘grande’\n",
        "*   JJR Adjetivo comparativo ‘más grande\n",
        "*   JJS, Adjetivo  superlativo ‘más grande’.\n",
        "*   LS Marcador de lista  1)\n",
        "*   MD modal podría, podrá\n",
        "*   NN sustantivo, singular “desk” (escritorio)\n",
        "*   NNS sustantivo plural ‘escritorios\n",
        "*   NNP sustantivo propio, singular “Harrison”\n",
        "*   NNPS sustantivo propio, plural ‘Americanos\n",
        "*   PDT Predeterminador ‘todos los niños’.\n",
        "*   POS posesivo final ‘de los padres’\n",
        "*   PRP pronombre personal ‘él, ella’\n",
        "*   PRP pronombre posesivo ‘mi, suyo, de ella’\n",
        "*   RB adverbio muy, silenciosamente,\n",
        "*   RBR, Adverbio  comparativamente mejor\n",
        "*   RBS adverbio, superlativo mejor\n",
        "*   RP partículas\n",
        "*   TO particula de infinitivo\n",
        "*   UH interjección jajaa\n",
        "*   VB verbo, ‘beber’\n",
        "*   VBD verbo, tiempo pasado ‘tomó’\n",
        "*   VBG verbo, gerundio/presente participio tomando\n",
        "*   VBN verbo, participio pasado tomado\n",
        "*   VBP verbo, cantar presente\n",
        "*   VBZ verbo, tercera persona\n",
        "*   WDT wh-determiner (which…)\n",
        "*   WP pronombre de pregunta (quién, qué)\n",
        "*   WP posesivo con pronombre (cuyo)\n",
        "*   WRB wh-abverb (donde, cuando)"
      ],
      "metadata": {
        "id": "w6w8lLcVsIEZ"
      }
    },
    {
      "cell_type": "code",
      "source": [
        "!pip install vaderSentiment\n",
        "from vaderSentiment.vaderSentiment import SentimentIntensityAnalyzer\n",
        " \n",
        "analyzer = SentimentIntensityAnalyzer()\n",
        "vs = analyzer.polarity_scores(\"This table is black\")\n",
        "print(vs)"
      ],
      "metadata": {
        "id": "VGc_vMXDsGy5",
        "colab": {
          "base_uri": "https://localhost:8080/"
        },
        "outputId": "12c3fe60-f1c7-436a-99a6-ca14566b5e86"
      },
      "execution_count": null,
      "outputs": [
        {
          "output_type": "stream",
          "name": "stdout",
          "text": [
            "Looking in indexes: https://pypi.org/simple, https://us-python.pkg.dev/colab-wheels/public/simple/\n",
            "Collecting vaderSentiment\n",
            "  Downloading vaderSentiment-3.3.2-py2.py3-none-any.whl (125 kB)\n",
            "\u001b[2K     \u001b[90m━━━━━━━━━━━━━━━━━━━━━━━━━━━━━━━━━━━━━━━\u001b[0m \u001b[32m126.0/126.0 kB\u001b[0m \u001b[31m3.9 MB/s\u001b[0m eta \u001b[36m0:00:00\u001b[0m\n",
            "\u001b[?25hRequirement already satisfied: requests in /usr/local/lib/python3.10/dist-packages (from vaderSentiment) (2.27.1)\n",
            "Requirement already satisfied: urllib3<1.27,>=1.21.1 in /usr/local/lib/python3.10/dist-packages (from requests->vaderSentiment) (1.26.15)\n",
            "Requirement already satisfied: certifi>=2017.4.17 in /usr/local/lib/python3.10/dist-packages (from requests->vaderSentiment) (2022.12.7)\n",
            "Requirement already satisfied: charset-normalizer~=2.0.0 in /usr/local/lib/python3.10/dist-packages (from requests->vaderSentiment) (2.0.12)\n",
            "Requirement already satisfied: idna<4,>=2.5 in /usr/local/lib/python3.10/dist-packages (from requests->vaderSentiment) (3.4)\n",
            "Installing collected packages: vaderSentiment\n",
            "Successfully installed vaderSentiment-3.3.2\n",
            "{'neg': 0.0, 'neu': 1.0, 'pos': 0.0, 'compound': 0.0}\n"
          ]
        }
      ]
    },
    {
      "cell_type": "code",
      "source": [
        "from textblob import TextBlob\n",
        " \n",
        "pos_count = 0\n",
        "pos_correct = 0\n",
        "data = open(\"positivas.txt\",\"r\").read()\n",
        "with open(\"positivas.txt\",\"r\") as f:\n",
        "  for line in f.read().split('\\n'):\n",
        "    analysis = TextBlob(line)\n",
        "    #print(line)\n",
        "    try:\n",
        "      eng=analysis.translate(from_lang = 'es', to='en')\n",
        "      if eng.sentiment.polarity > 0:\n",
        "        pos_correct += 1\n",
        "      pos_count +=1\n",
        "    except:\n",
        "    #Mostramos este mensaje en caso de que se presente algún problema\n",
        "      print (\"El elemento no está presente\")\n",
        " \n",
        "neg_count = 0\n",
        "neg_correct = 0\n",
        " \n",
        "with open(\"negativas.txt\",\"r\") as f:\n",
        "  for line in f.read().split('\\n'):\n",
        "    analysis = TextBlob(line)\n",
        "    #print(line)\n",
        "    try:\n",
        "      eng=analysis.translate(from_lang = 'es', to='en')\n",
        "      if eng.sentiment.polarity <= 0:\n",
        "        neg_correct += 1\n",
        "      neg_count +=1\n",
        "    except:\n",
        "      print('el elemento no esta presente')\n",
        " \n",
        "print(\"Precisión positiva = {}% via {} ejemplos\".format(pos_correct/pos_count*100.0, pos_count))\n",
        "print(\"Precisión negativa = {}% via {} ejemplos\".format(neg_correct/neg_count*100.0, neg_count))"
      ],
      "metadata": {
        "colab": {
          "base_uri": "https://localhost:8080/"
        },
        "id": "XupyvgZqHlts",
        "outputId": "31b7d8ef-6af7-4bc2-eaab-fe0cc85261f0"
      },
      "execution_count": 2,
      "outputs": [
        {
          "output_type": "stream",
          "name": "stdout",
          "text": [
            "Precisión positiva = 84.61538461538461% via 26 ejemplos\n",
            "Precisión negativa = 90.0% via 20 ejemplos\n"
          ]
        }
      ]
    }
  ]
}